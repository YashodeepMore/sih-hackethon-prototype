{
 "cells": [
  {
   "cell_type": "code",
   "execution_count": 2,
   "id": "2e11b7f9",
   "metadata": {},
   "outputs": [],
   "source": [
    "import numpy as np\n",
    "import pandas as pd"
   ]
  },
  {
   "cell_type": "code",
   "execution_count": null,
   "id": "c22073c7",
   "metadata": {},
   "outputs": [],
   "source": [
    "df = pd.read_csv('argo_indian_ocean_export.csv')"
   ]
  },
  {
   "cell_type": "code",
   "execution_count": 4,
   "id": "ca8c9e1d",
   "metadata": {},
   "outputs": [
    {
     "data": {
      "text/html": [
       "<div>\n",
       "<style scoped>\n",
       "    .dataframe tbody tr th:only-of-type {\n",
       "        vertical-align: middle;\n",
       "    }\n",
       "\n",
       "    .dataframe tbody tr th {\n",
       "        vertical-align: top;\n",
       "    }\n",
       "\n",
       "    .dataframe thead th {\n",
       "        text-align: right;\n",
       "    }\n",
       "</style>\n",
       "<table border=\"1\" class=\"dataframe\">\n",
       "  <thead>\n",
       "    <tr style=\"text-align: right;\">\n",
       "      <th></th>\n",
       "      <th>uid</th>\n",
       "      <th>platform_number</th>\n",
       "      <th>cycle_number</th>\n",
       "      <th>latitude</th>\n",
       "      <th>longitude</th>\n",
       "      <th>pressure</th>\n",
       "      <th>temperature</th>\n",
       "      <th>salinity</th>\n",
       "      <th>juld</th>\n",
       "    </tr>\n",
       "  </thead>\n",
       "  <tbody>\n",
       "    <tr>\n",
       "      <th>0</th>\n",
       "      <td>1</td>\n",
       "      <td>3901831</td>\n",
       "      <td>224</td>\n",
       "      <td>-50.18681</td>\n",
       "      <td>61.64761</td>\n",
       "      <td>0.960000</td>\n",
       "      <td>4.283</td>\n",
       "      <td>33.770000</td>\n",
       "      <td>19723.959329</td>\n",
       "    </tr>\n",
       "    <tr>\n",
       "      <th>1</th>\n",
       "      <td>2</td>\n",
       "      <td>3901831</td>\n",
       "      <td>224</td>\n",
       "      <td>-50.18681</td>\n",
       "      <td>61.64761</td>\n",
       "      <td>1.920000</td>\n",
       "      <td>4.282</td>\n",
       "      <td>33.770000</td>\n",
       "      <td>19723.959329</td>\n",
       "    </tr>\n",
       "    <tr>\n",
       "      <th>2</th>\n",
       "      <td>3</td>\n",
       "      <td>3901831</td>\n",
       "      <td>224</td>\n",
       "      <td>-50.18681</td>\n",
       "      <td>61.64761</td>\n",
       "      <td>3.040000</td>\n",
       "      <td>4.284</td>\n",
       "      <td>33.769001</td>\n",
       "      <td>19723.959329</td>\n",
       "    </tr>\n",
       "    <tr>\n",
       "      <th>3</th>\n",
       "      <td>4</td>\n",
       "      <td>3901831</td>\n",
       "      <td>224</td>\n",
       "      <td>-50.18681</td>\n",
       "      <td>61.64761</td>\n",
       "      <td>4.040000</td>\n",
       "      <td>4.285</td>\n",
       "      <td>33.770000</td>\n",
       "      <td>19723.959329</td>\n",
       "    </tr>\n",
       "    <tr>\n",
       "      <th>4</th>\n",
       "      <td>5</td>\n",
       "      <td>3901831</td>\n",
       "      <td>224</td>\n",
       "      <td>-50.18681</td>\n",
       "      <td>61.64761</td>\n",
       "      <td>5.000000</td>\n",
       "      <td>4.286</td>\n",
       "      <td>33.770000</td>\n",
       "      <td>19723.959329</td>\n",
       "    </tr>\n",
       "    <tr>\n",
       "      <th>...</th>\n",
       "      <td>...</td>\n",
       "      <td>...</td>\n",
       "      <td>...</td>\n",
       "      <td>...</td>\n",
       "      <td>...</td>\n",
       "      <td>...</td>\n",
       "      <td>...</td>\n",
       "      <td>...</td>\n",
       "      <td>...</td>\n",
       "    </tr>\n",
       "    <tr>\n",
       "      <th>10058</th>\n",
       "      <td>10059</td>\n",
       "      <td>3901831</td>\n",
       "      <td>233</td>\n",
       "      <td>-48.22100</td>\n",
       "      <td>63.70773</td>\n",
       "      <td>1998.040039</td>\n",
       "      <td>1.804</td>\n",
       "      <td>34.770000</td>\n",
       "      <td>19813.203623</td>\n",
       "    </tr>\n",
       "    <tr>\n",
       "      <th>10059</th>\n",
       "      <td>10060</td>\n",
       "      <td>3901831</td>\n",
       "      <td>233</td>\n",
       "      <td>-48.22100</td>\n",
       "      <td>63.70773</td>\n",
       "      <td>2000.000000</td>\n",
       "      <td>1.801</td>\n",
       "      <td>34.770000</td>\n",
       "      <td>19813.203623</td>\n",
       "    </tr>\n",
       "    <tr>\n",
       "      <th>10060</th>\n",
       "      <td>10061</td>\n",
       "      <td>3901831</td>\n",
       "      <td>233</td>\n",
       "      <td>-48.22100</td>\n",
       "      <td>63.70773</td>\n",
       "      <td>2002.000000</td>\n",
       "      <td>1.799</td>\n",
       "      <td>34.769001</td>\n",
       "      <td>19813.203623</td>\n",
       "    </tr>\n",
       "    <tr>\n",
       "      <th>10061</th>\n",
       "      <td>10062</td>\n",
       "      <td>3901831</td>\n",
       "      <td>233</td>\n",
       "      <td>-48.22100</td>\n",
       "      <td>63.70773</td>\n",
       "      <td>2004.119995</td>\n",
       "      <td>1.797</td>\n",
       "      <td>34.769001</td>\n",
       "      <td>19813.203623</td>\n",
       "    </tr>\n",
       "    <tr>\n",
       "      <th>10062</th>\n",
       "      <td>10063</td>\n",
       "      <td>3901831</td>\n",
       "      <td>233</td>\n",
       "      <td>-48.22100</td>\n",
       "      <td>63.70773</td>\n",
       "      <td>2005.280029</td>\n",
       "      <td>1.797</td>\n",
       "      <td>34.770000</td>\n",
       "      <td>19813.203623</td>\n",
       "    </tr>\n",
       "  </tbody>\n",
       "</table>\n",
       "<p>10063 rows × 9 columns</p>\n",
       "</div>"
      ],
      "text/plain": [
       "         uid  platform_number  cycle_number  latitude  longitude     pressure  \\\n",
       "0          1          3901831           224 -50.18681   61.64761     0.960000   \n",
       "1          2          3901831           224 -50.18681   61.64761     1.920000   \n",
       "2          3          3901831           224 -50.18681   61.64761     3.040000   \n",
       "3          4          3901831           224 -50.18681   61.64761     4.040000   \n",
       "4          5          3901831           224 -50.18681   61.64761     5.000000   \n",
       "...      ...              ...           ...       ...        ...          ...   \n",
       "10058  10059          3901831           233 -48.22100   63.70773  1998.040039   \n",
       "10059  10060          3901831           233 -48.22100   63.70773  2000.000000   \n",
       "10060  10061          3901831           233 -48.22100   63.70773  2002.000000   \n",
       "10061  10062          3901831           233 -48.22100   63.70773  2004.119995   \n",
       "10062  10063          3901831           233 -48.22100   63.70773  2005.280029   \n",
       "\n",
       "       temperature   salinity          juld  \n",
       "0            4.283  33.770000  19723.959329  \n",
       "1            4.282  33.770000  19723.959329  \n",
       "2            4.284  33.769001  19723.959329  \n",
       "3            4.285  33.770000  19723.959329  \n",
       "4            4.286  33.770000  19723.959329  \n",
       "...            ...        ...           ...  \n",
       "10058        1.804  34.770000  19813.203623  \n",
       "10059        1.801  34.770000  19813.203623  \n",
       "10060        1.799  34.769001  19813.203623  \n",
       "10061        1.797  34.769001  19813.203623  \n",
       "10062        1.797  34.770000  19813.203623  \n",
       "\n",
       "[10063 rows x 9 columns]"
      ]
     },
     "execution_count": 4,
     "metadata": {},
     "output_type": "execute_result"
    }
   ],
   "source": [
    "df"
   ]
  },
  {
   "cell_type": "code",
   "execution_count": 5,
   "id": "7d17c543",
   "metadata": {},
   "outputs": [
    {
     "name": "stdout",
     "output_type": "stream",
     "text": [
      "<class 'pandas.core.frame.DataFrame'>\n",
      "RangeIndex: 10063 entries, 0 to 10062\n",
      "Data columns (total 9 columns):\n",
      " #   Column           Non-Null Count  Dtype  \n",
      "---  ------           --------------  -----  \n",
      " 0   uid              10063 non-null  int64  \n",
      " 1   platform_number  10063 non-null  int64  \n",
      " 2   cycle_number     10063 non-null  int64  \n",
      " 3   latitude         10063 non-null  float64\n",
      " 4   longitude        10063 non-null  float64\n",
      " 5   pressure         10063 non-null  float64\n",
      " 6   temperature      10063 non-null  float64\n",
      " 7   salinity         10063 non-null  float64\n",
      " 8   juld             10063 non-null  float64\n",
      "dtypes: float64(6), int64(3)\n",
      "memory usage: 707.7 KB\n"
     ]
    }
   ],
   "source": [
    "df.info()"
   ]
  },
  {
   "cell_type": "code",
   "execution_count": 6,
   "metadata": {},
   "outputs": [
    {
     "data": {
      "text/plain": [
       "uid                  int64\n",
       "platform_number      int64\n",
       "cycle_number         int64\n",
       "latitude           float64\n",
       "longitude          float64\n",
       "pressure           float64\n",
       "temperature        float64\n",
       "salinity           float64\n",
       "juld               float64\n",
       "dtype: object"
      ]
     },
     "execution_count": 6,
     "metadata": {},
     "output_type": "execute_result"
    }
   ],
   "source": [
    "df.dtypes\n"
   ]
  },
  {
   "cell_type": "code",
   "execution_count": 7,
   "id": "7c17258f",
   "metadata": {},
   "outputs": [
    {
     "data": {
      "text/plain": [
       "array([224, 225, 226, 227, 228, 229, 230, 231, 232, 233])"
      ]
     },
     "execution_count": 7,
     "metadata": {},
     "output_type": "execute_result"
    }
   ],
   "source": [
    "df['cycle_number'].unique()         # confirm exact column names\n"
   ]
  },
  {
   "cell_type": "code",
   "execution_count": 8,
   "id": "f109afef",
   "metadata": {},
   "outputs": [
    {
     "name": "stdout",
     "output_type": "stream",
     "text": [
      "Index(['uid', 'platform_number', 'cycle_number', 'latitude', 'longitude',\n",
      "       'pressure', 'temperature', 'salinity', 'juld'],\n",
      "      dtype='object')\n"
     ]
    }
   ],
   "source": [
    "print(df.columns)  "
   ]
  },
  {
   "cell_type": "code",
   "execution_count": null,
   "id": "f44eac12",
   "metadata": {},
   "outputs": [],
   "source": []
  }
 ],
 "metadata": {
  "kernelspec": {
   "display_name": "Python 3",
   "language": "python",
   "name": "python3"
  },
  "language_info": {
   "codemirror_mode": {
    "name": "ipython",
    "version": 3
   },
   "file_extension": ".py",
   "mimetype": "text/x-python",
   "name": "python",
   "nbconvert_exporter": "python",
   "pygments_lexer": "ipython3",
   "version": "3.12.0"
  }
 },
 "nbformat": 4,
 "nbformat_minor": 5
}
